{
 "cells": [
  {
   "cell_type": "code",
   "execution_count": 2,
   "id": "593d249c",
   "metadata": {},
   "outputs": [],
   "source": [
    "import pandas as pd #after this step imprt the dataset you want to use (from the project)# you copy the file into the route folder then make a folder for it  "
   ]
  }
 ],
 "metadata": {
  "kernelspec": {
   "display_name": ".venv",
   "language": "python",
   "name": "python3"
  },
  "language_info": {
   "codemirror_mode": {
    "name": "ipython",
    "version": 3
   },
   "file_extension": ".py",
   "mimetype": "text/x-python",
   "name": "python",
   "nbconvert_exporter": "python",
   "pygments_lexer": "ipython3",
   "version": "3.12.8"
  }
 },
 "nbformat": 4,
 "nbformat_minor": 5
}
